{
 "cells": [
  {
   "attachments": {},
   "cell_type": "markdown",
   "metadata": {},
   "source": [
    "# Detect unattended baggage\n",
    "\n",
    "[![Open In Colab](https://colab.research.google.com/assets/colab-badge.svg)](https://colab.research.google.com/github/uclasystem/VQPy/blob/main/examples/unattended_baggage/demo.ipynb)\n",
    "\n",
    "## Introduction\n",
    "\n",
    "Unattended baggage could simply be an oversight on the part of the owner; or it could be intentionally left behind, containing dangerous materials that pose a threat to public safety. Either way, detection is necessary.\n",
    "\n",
    "In this example, we aim to identify unattended baggages and generate results for triggering an alarm in a surveillance video.\n",
    "A baggage is regarded as unattended if it applies to the circumstances below:\n",
    "\n",
    "- The distance to its owner is further than `DISTANCE_THRESHOLD`.\n",
    "- No one attends the baggage for a period of `t` consecutive seconds.\n",
    "\n",
    "Note that in this example, the baggage is not regarded as unattended if there is another person, like a staff, is within the distance threshold."
   ]
  },
  {
   "attachments": {},
   "cell_type": "markdown",
   "metadata": {},
   "source": [
    "## Environment setup"
   ]
  },
  {
   "attachments": {},
   "cell_type": "markdown",
   "metadata": {},
   "source": [
    "Python3.8 is recommended to avoid compatibility issues when installing YOLOX.\n",
    "\n",
    "Please download video from [kaggle](https://www.kaggle.com/datasets/szahid405/baggage?select=baggage.mp4) and place it in the same directory as this notebook, aside from running the cell below."
   ]
  },
  {
   "cell_type": "code",
   "execution_count": null,
   "metadata": {},
   "outputs": [],
   "source": [
    "# install YOLOX\n",
    "!git clone https://github.com/Megvii-BaseDetection/YOLOX.git\n",
    "# download YOLOX pretrained model\n",
    "!wget https://github.com/Megvii-BaseDetection/YOLOX/releases/download/0.1.1rc0/yolox_x.pth\n",
    "!cd YOLOX && pip3 install .\n",
    "# download VQPy, move vqpy/ to root directory for import\n",
    "!git clone https://github.com/uclasystem/VQPy.git\n",
    "!mv VQPy/vqpy ./\n",
    "# install VQPy's dependencies\n",
    "!pip3 install lap cython_bbox shapely\n",
    "import vqpy\n",
    "video_path = \"./baggage.mp4\"\t# or change to wherever you put the video\n",
    "save_folder = \"./vqpy_outputs\"\n",
    "detector_model_dir = \"./\""
   ]
  },
  {
   "attachments": {},
   "cell_type": "markdown",
   "metadata": {},
   "source": [
    "For reference, the working directory should look like:\n",
    "\n",
    "```text\n",
    ".\n",
    "├── VQPy\n",
    "├── YOLOX\n",
    "├── baggage.mp4\t# video to query on\n",
    "├── vqpy\t# make vqpy available for import\n",
    "└── yolox_x.pth\t# model checkpoint\n",
    "```"
   ]
  },
  {
   "attachments": {},
   "cell_type": "markdown",
   "metadata": {},
   "source": [
    "## Unattended baggage query with VQPy"
   ]
  },
  {
   "attachments": {},
   "cell_type": "markdown",
   "metadata": {},
   "source": [
    "### Step 1: Define interested `VObj`s\n",
    "\n",
    "#### Define `Person` `VObj`\n",
    "\n",
    "Since we will only use the built-in properties of `VObj` in `Person`, `Person` can directly inherit `VObjBase`, with no extra property functions defined."
   ]
  },
  {
   "cell_type": "code",
   "execution_count": null,
   "metadata": {},
   "outputs": [],
   "source": [
    "class Person(vqpy.VObjBase):\n",
    "    pass"
   ]
  },
  {
   "attachments": {},
   "cell_type": "markdown",
   "metadata": {},
   "source": [
    "The built-in properties we will use for `Person` `VObj` are:\n",
    "\n",
    "- bounding box (`tlbr`), for computing distance between person and baggage\n",
    "- id (`track_id`), for referencing `Person` from baggage `VObj`\n",
    "\n",
    "They will be used while computing the `owner` property of `Baggage` `VObj`, which we will introduce next."
   ]
  },
  {
   "attachments": {},
   "cell_type": "markdown",
   "metadata": {},
   "source": [
    "#### Define VObj type for baggage with property `owner`\n",
    "\n",
    "Next define a `Baggage` `VObj`. To query baggages without owners, we add a property `owner` to `Baggage`.\n",
    "\n",
    "In this example, the baggage's `owner` references `track_id` of `Person` VObj, who is:\n",
    "\n",
    "- the owner from last frame, if person is still present and within `DISTANCE_THRESHOLD`\n",
    "- else, person closest to the baggage and within `DISTANCE_THRESHOLD`\n",
    "- else, None\n",
    "\n",
    "And we should use the below decorators to decorate `owner`:\n",
    "\n",
    "- `@stateful`, to make values of `owner` from past frames available\n",
    "\n",
    "\t`@stateful(length=2)` tells VQPy to store value of property in the previous frame being decorated to the VObj, allowing us to use `getv(\"owner\", -2)` to access value of `owner` of previous frame. `length` specifies number of past values to be saved, and the default `length=0` stores all past values.\n",
    "\n",
    "- `@cross_vobj_property`, to retrieve information from other VObjs (`Person`s) in the current frame\n",
    "\n",
    "\tThe arguments for the decorator are:\n",
    "\n",
    "\t- `vobj_type=Person`, type of VObj to request properties from\n",
    "\t- `vobj_input_fields=(\"track_id\", \"tlbr\")`, names of properties\n",
    "\n",
    "\t\t`track_id` is the tracking id of `Person`, used to identify change of person around the baggage; `tlbr` is the bounding box of `Person`, a list containing coordinates of top-left and lower-right corners\n",
    "\n",
    "\tAll properties requested will be passed to the function in form of a list of tuples, each tuple containing properties of a VObj. i.e. `[person_1_properties, person_2_properties, ..., person_n_peroperties]`, where `person_i_properties` is a tuple of the input field values: `(id, tlbr)`.\n",
    "\n",
    "With property `owner`, we define `Baggage`:"
   ]
  },
  {
   "cell_type": "code",
   "execution_count": null,
   "metadata": {},
   "outputs": [],
   "source": [
    "# helper function to calculate distance between two bounding boxes, in pixels\n",
    "def distance(vobj1_tlbr, vobj2_tlbr):\n",
    "    from math import sqrt\n",
    "\n",
    "    center1 = (vobj1_tlbr[:2] + vobj1_tlbr[2:]) / 2\n",
    "    center2 = (vobj2_tlbr[:2] + vobj2_tlbr[2:]) / 2\n",
    "    # difference between center coordinate\n",
    "    diff = center2 - center1\n",
    "    return sqrt(diff[0] ** 2 + diff[1] ** 2)\n",
    "\n",
    "\n",
    "class Baggage(vqpy.VObjBase):\n",
    "    @vqpy.stateful(length=2)\n",
    "    @vqpy.cross_vobj_property(vobj_type=Person, vobj_input_fields=(\"track_id\", \"tlbr\"))\n",
    "    def owner(self, person_ids_tlbrs):\n",
    "        baggage_tlbr = self.getv(\"tlbr\")\n",
    "        prev_owner = self.getv(\"owner\", -2)\n",
    "        owner_id = None\n",
    "        DISTANCE_THRESHOLD = (\n",
    "            baggage_tlbr[3] - baggage_tlbr[1]\n",
    "        ) + 1  # set threshold to baggage's width\n",
    "        min_dist = DISTANCE_THRESHOLD + 1  # distance to nearest person\n",
    "        # iterating through all people in the frame\n",
    "        for person_id, person_tlbr in person_ids_tlbrs:\n",
    "            dist = distance(baggage_tlbr, person_tlbr)\n",
    "            if person_id == prev_owner and dist <= DISTANCE_THRESHOLD:\n",
    "                # return previous owner if still around\n",
    "                return prev_owner\n",
    "            if dist <= DISTANCE_THRESHOLD and dist < min_dist:\n",
    "                # update owner if closer\n",
    "                owner_id = person_id\n",
    "                min_dist = dist\n",
    "        # new owner is returned (will return None if owner not found)\n",
    "        return owner_id"
   ]
  },
  {
   "attachments": {},
   "cell_type": "markdown",
   "metadata": {},
   "source": [
    "### Step 2: Query on baggage's owner\n",
    "\n",
    "#### Filter `Baggage`s without owner (`filter_cons`)\n",
    "\n",
    "We regard baggage without an owner for more than 10 seconds as unattended, using `vqpy.utils.continuing(condition, duration, name)` with condition `lambda x: x is None` to filter property `\"owner\"`. Duration is set to `10` (seconds), and we use the name `no_owner` to notate the filter.\n",
    "\n",
    "`vqpy.utils.continuing` will generate a property named `{filter_name}_periods` (`no_owner_periods` here) in the VObj. The property will have time periods across the whole video during which `condition` is satisfied for more than the `duration` specified. `{filter_name}_periods` can be used in `select_cons` as an output."
   ]
  },
  {
   "cell_type": "code",
   "execution_count": null,
   "metadata": {},
   "outputs": [],
   "source": [
    "filter_cons = {\n",
    "    \"__class__\": lambda x: x == Baggage,\n",
    "    \"owner\": vqpy.utils.continuing(\n",
    "        condition=lambda x: x is None, duration=10, name=\"no_owner\"\n",
    "    ),\n",
    "}"
   ]
  },
  {
   "attachments": {},
   "cell_type": "markdown",
   "metadata": {},
   "source": [
    "#### Select `Baggage`'s properties for output (`select_cons`)\n",
    "\n",
    "For each baggage without owner, the following properties are selected for output:\n",
    "\n",
    "- `track_id`, tracking id, built-in property of VObj\n",
    "- `tlbr`, bounding box, also built-in property of VObj. Use post-processing function to convert to string before serializing.\n",
    "- `no_owner_periods`, a list of time periods (in seconds) of `Baggage` having no owner"
   ]
  },
  {
   "cell_type": "code",
   "execution_count": null,
   "metadata": {},
   "outputs": [],
   "source": [
    "select_cons = {\n",
    "    \"track_id\": None,\n",
    "    \"tlbr\": lambda x: str(x),\n",
    "    \"no_owner_periods\": None,\n",
    "}"
   ]
  },
  {
   "attachments": {},
   "cell_type": "markdown",
   "metadata": {},
   "source": [
    "#### The query\n",
    "\n",
    "With `filter_cons` and `select_cons` composed, the query is:"
   ]
  },
  {
   "cell_type": "code",
   "execution_count": null,
   "metadata": {},
   "outputs": [],
   "source": [
    "class FindUnattendedBaggage(vqpy.QueryBase):\n",
    "    @staticmethod\n",
    "    def setting() -> vqpy.VObjConstraint:\n",
    "        return vqpy.VObjConstraint(\n",
    "            filter_cons=filter_cons,\n",
    "            select_cons=select_cons,\n",
    "            filename=\"unattended_baggage\",\n",
    "        )"
   ]
  },
  {
   "attachments": {},
   "cell_type": "markdown",
   "metadata": {},
   "source": [
    "### Step 3: Running the query"
   ]
  },
  {
   "attachments": {},
   "cell_type": "markdown",
   "metadata": {},
   "source": [
    "With the `Person` VObj and the query defined, we can run the query, where:\n",
    "\n",
    "- `cls_name` is a tuple for mapping numerical outputs of object detector to literal detection class name\n",
    "\n",
    "\tHere we use `COCO_CLASSES` since it includes all the class names of interest in the unattended baggage query, i.e. `\"person\", \"backpack\", \"suitcase\"`.\n",
    "\n",
    "- dictionary `cls_type` is then used to map detection class name (in str) to VObj types defined\n",
    "\n",
    "\t`{\"person\": Person, \"backpack\": Baggage, \"suitcase\": Baggage}` means we wish to map COCO class `person` to VObj type `Person`, and `backpack, suitcase`  to `Baggage`\n",
    "\n",
    "- `tasks` is a list of queries to run on the video"
   ]
  },
  {
   "cell_type": "code",
   "execution_count": null,
   "metadata": {},
   "outputs": [],
   "source": [
    "vqpy.launch(\n",
    "    cls_name=vqpy.COCO_CLASSES,\n",
    "    cls_type={\"person\": Person, \"backpack\": Baggage, \"suitcase\": Baggage},\n",
    "    tasks=[FindUnattendedBaggage()],\n",
    "    video_path=video_path,\n",
    "    save_folder=save_folder,\n",
    "    detector_model_dir=detector_model_dir,\n",
    ")"
   ]
  },
  {
   "attachments": {},
   "cell_type": "markdown",
   "metadata": {},
   "source": [
    "## Expected result\n",
    "\n",
    "Result of the query will be in `{save_folder}/{video_name}_{task_name}_{detector_name}.json`, output for this example should be in `./vqpy_outputs/baggage_unattended_baggage_yolox.json`.\n",
    "\n",
    "One entry is created for each frame that has filter condition satisfied.\n",
    "\n",
    "At 3102th frame (around 103s), the last frame in the video that has unattended baggage(s), we have output:\n",
    "\n",
    "```json\n",
    "{\n",
    "  \"frame_id\": 3102,\n",
    "  \"data\": [\n",
    "    {\n",
    "      \"track_id\": 522,\n",
    "      \"tlbr\": \"[ 65.91797 244.125   147.65625 397.6875 ]\",\n",
    "      \"no_owner_periods\": [\n",
    "        [49, 83],\n",
    "        [86, 103]\n",
    "      ]\n",
    "    }\n",
    "  ]\n",
    "}\n",
    "```\n",
    "\n",
    "Time period `[86, 103]` in `no_owner_periods` means that the baggage is unattended during approximately 01:26-01:43.\n",
    "\n",
    "Frame 2550, 2580 and 3102 looks like:\n",
    "\n",
    "<img src=\"./demo.assets/frame2550.png\" alt=\"frame2550\" style=\"zoom: 40%;\" />\n",
    "<img src=\"./demo.assets/frame2580.png\" alt=\"frame2580\" style=\"zoom: 40%;\" />\n",
    "<img src=\"./demo.assets/frame3102.png\" alt=\"frame3102, with bounding box\" style=\"zoom: 40%;\" />\n",
    "\n",
    "As shown in frame 2550, the person in the blue box was regarded as the owner of the baggage prior to 01:26. The person left the frame in frame 2580, and the baggage did not have any owner during 86-103s, which is the interval `[86, 103]` in the output. The interval ends at frame 3102, when the other person marked with blue box approached the baggage and is regarded as its owner."
   ]
  }
 ],
 "metadata": {
  "language_info": {
   "name": "python"
  },
  "orig_nbformat": 4
 },
 "nbformat": 4,
 "nbformat_minor": 2
}
